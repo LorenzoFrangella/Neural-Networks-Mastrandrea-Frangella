{
 "cells": [
  {
   "cell_type": "code",
   "execution_count": null,
   "metadata": {},
   "outputs": [],
   "source": [
    "import torch\n",
    "import torch.nn as nn\n",
    "\n",
    "class FilmModule(nn.Module):\n",
    "    def __init__(self,input_size,output_size):\n",
    "        super(FilmModule, self).__init__()\n",
    "        self.input_size = input_size\n",
    "        self.output_size = output_size\n",
    "        self.linear = nn.Sequential(\n",
    "            nn.Linear(input_size, output_size * 2),\n",
    "            nn.ReLU(inplace=True),\n",
    "            nn.Linear(output_size * 2, output_size),\n",
    "            nn.ReLU(inplace=True)\n",
    "        )\n",
    "    \n",
    "    def forward(self,data,embedding_vector):\n",
    "        \n",
    "        x = self.linear(embedding_vector)\n",
    "        x = data + x[...,None,None,None]\n",
    "\n",
    "        return x\n",
    "\n",
    "\n",
    "Film1_1 = FilmModule(512,32)\n",
    "\n",
    "random_embedding = torch.rand(1,512)\n",
    "random_value = torch.rand(32,2,513,501)\n",
    "\n",
    "print(Film1_1(random_value,random_embedding))\n",
    "\n"
   ]
  },
  {
   "cell_type": "code",
   "execution_count": null,
   "metadata": {},
   "outputs": [],
   "source": [
    "class ResUnet(nn.Module):\n",
    "    def __init__(self, input_size, output_size):\n",
    "        super(ResUnet, self).__init__()\n",
    "\n",
    "        self.input_size = input_size;\n",
    "        self.output_size = output_size;\n",
    "\n",
    "        self.momentum = 0.01\n",
    "\n",
    "\n",
    "        # instanziare la preconv che è una conv2d\n",
    "\n",
    "        # definire la classe degli encoder bloc\n",
    "        # definire la classe dei decoder block\n",
    "\n",
    "        #\n",
    "\n",
    "\n"
   ]
  }
 ],
 "metadata": {
  "kernelspec": {
   "display_name": "Python 3",
   "language": "python",
   "name": "python3"
  },
  "language_info": {
   "codemirror_mode": {
    "name": "ipython",
    "version": 3
   },
   "file_extension": ".py",
   "mimetype": "text/x-python",
   "name": "python",
   "nbconvert_exporter": "python",
   "pygments_lexer": "ipython3",
   "version": "3.8.2"
  }
 },
 "nbformat": 4,
 "nbformat_minor": 2
}
