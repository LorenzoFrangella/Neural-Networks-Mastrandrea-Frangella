{
  "cells": [
    {
      "cell_type": "code",
      "source": [
        "!pip install pytube\n",
        "!pip install pydub"
      ],
      "metadata": {
        "id": "DEi0ovRK-EkD"
      },
      "execution_count": null,
      "outputs": []
    },
    {
      "cell_type": "code",
      "source": [
        "from  pytube import YouTube\n",
        "import os\n",
        "from pydub import AudioSegment\n",
        "import csv\n",
        "\n",
        "def cut_audio(input_file, output_file, start_time, end_time):\n",
        "    audio = AudioSegment.from_file(input_file)\n",
        "    audio = audio.set_frame_rate(32000)\n",
        "    cut_audio = audio[start_time:end_time]\n",
        "    cut_audio.export(output_file, format=\"mp3\")\n",
        "\n",
        "\n",
        "def get_audio_clip(video_id, start, end):\n",
        "    video_url = f\"https://www.youtube.com/watch?v={video_id}\"\n",
        "    selected_video = YouTube(video_url)\n",
        "    audio = selected_video.streams.filter(only_audio = True).first()\n",
        "    path_dest = audio.download(\"./download\", filename=f\"{video_id}.mp3\")\n",
        "\n",
        "    cut_audio(path_dest, path_dest, start*1000, end*1000)\n",
        "\n",
        "\n",
        "with open('balanced_train_segments.csv', mode ='r')as file:\n",
        "  csvFile = csv.reader(file)\n",
        "  for lines in csvFile:\n",
        "     video_id = lines[0]\n",
        "     start = lines[1]\n",
        "     end = lines[2]\n",
        "     try:\n",
        "        get_audio_clip(video_id,float(start),float(end))\n",
        "     except:\n",
        "        continue\n",
        "\n",
        ""
      ],
      "metadata": {
        "id": "MxptmioV99te"
      },
      "execution_count": null,
      "outputs": []
    },
    {
      "cell_type": "code",
      "source": [
        "\n",
        "def plot_waveform(waveform, sample_rate):\n",
        "\n",
        "    waveform = waveform.numpy()\n",
        "    num_channels, num_frames = waveform.shape\n",
        "    time_axis = torch.arange(0, num_frames) / sample_rate\n",
        "    figure, axes = plt.subplots(num_channels, 1)\n",
        "    if num_channels == 1:\n",
        "        axes = [axes]\n",
        "    for c in range(num_channels):\n",
        "        axes[c].plot(time_axis, waveform[c], linewidth=1)\n",
        "        axes[c].grid(True)\n",
        "        if num_channels > 1:\n",
        "            axes[c].set_ylabel(f\"Channel {c+1}\")\n",
        "    figure.suptitle(\"waveform\")\n",
        "    plt.show()\n",
        "\n",
        "def get_mixture_audio(audio1,audio2):\n",
        "\n",
        "    waveform_s1, sample_rate_s1 = torchaudio.load(f\"{audio1}.mp3\")\n",
        "    waveform_s2,sample_rate_s2 = torchaudio.load(f\"{audio2}.mp3\")\n",
        "\n",
        "    E1 = torch.square(torch.norm(waveform_s1,p=2))\n",
        "    E2 = torch.square(torch.norm(waveform_s2,p=2))\n",
        "\n",
        "    alpha = torch.sqrt(E1/E2)\n",
        "\n",
        "    x = waveform_s1 + alpha * waveform_s2\n",
        "    return x\n"
      ],
      "metadata": {
        "id": "kxxkwaEe-sHD"
      },
      "execution_count": 18,
      "outputs": []
    },
    {
      "cell_type": "code",
      "source": [
        "import random\n",
        "import os\n",
        "import torch\n",
        "from pydub import AudioSegment\n",
        "import matplotlib as plt\n",
        "import math\n",
        "import torchaudio\n",
        "\n",
        "def random_sample(mode):\n",
        "\n",
        "  filenames = random.sample(os.listdir(\"./download\"), 2)\n",
        "  print(filenames)\n",
        "  audio1 = filenames[0]\n",
        "  audio2 = filenames[1]\n",
        "  audio1 = AudioSegment.from_file(f'./download/{audio1}')\n",
        "  audio1 = audio1.set_frame_rate(32000)\n",
        "  audio2 = AudioSegment.from_file(f'./download/{audio2}')\n",
        "  audio2 = audio2.set_frame_rate(32000)\n",
        "\n",
        "  if mode == \"training\":\n",
        "\n",
        "    duration1 = audio1.duration_seconds\n",
        "    duration2 = audio2.duration_seconds\n",
        "\n",
        "    start_time1 = random.uniform(0,(duration1-5))\n",
        "    start_time2 = random.uniform(0,(duration2-5))\n",
        "\n",
        "    clipped_audio1 = audio1[start_time1:start_time1+5]\n",
        "    clipped_audio2 = audio2[start_time2:start_time2+5]\n",
        "\n",
        "    clipped_audio1.export('./tmp/audio1.mp3', format=\"mp3\")\n",
        "    clipped_audio2.export('./tmp/audio2.mp3', format=\"mp3\")\n",
        "\n",
        "\n",
        "    mixed = get_mixture_audio(\"tmp/audio1\",\"tmp/audio2\")\n",
        "\n",
        "    out = torch.stft(mixed,n_fft=1024,hop_length=512,return_complex=True)\n",
        "    out_real = out[:, :, :, 0]\n",
        "    out_imag = out[:, :, :, 1]\n",
        "\n",
        "    out_abs = torch.sqrt(out_real**2 + out_imag**2)\n",
        "\n",
        "    plt.pcolormesh(out_abs[0])\n",
        "\n",
        "\n",
        "\n",
        "    print('training')\n",
        "\n",
        "\n",
        "\n",
        "\n",
        "random_sample('training')\n"
      ],
      "metadata": {
        "id": "5iEbCSDHDeND",
        "outputId": "a8625062-43fe-4b69-bc15-39568d56866a",
        "colab": {
          "base_uri": "https://localhost:8080/",
          "height": 425
        }
      },
      "execution_count": 27,
      "outputs": [
        {
          "output_type": "stream",
          "name": "stdout",
          "text": [
            "['-FFx68qSAuY.mp3', '-JBvPwxaVVg.mp3']\n"
          ]
        },
        {
          "output_type": "error",
          "ename": "RuntimeError",
          "evalue": "ignored",
          "traceback": [
            "\u001b[0;31m---------------------------------------------------------------------------\u001b[0m",
            "\u001b[0;31mRuntimeError\u001b[0m                              Traceback (most recent call last)",
            "\u001b[0;32m<ipython-input-27-752f5f0f4e9d>\u001b[0m in \u001b[0;36m<cell line: 52>\u001b[0;34m()\u001b[0m\n\u001b[1;32m     50\u001b[0m \u001b[0;34m\u001b[0m\u001b[0m\n\u001b[1;32m     51\u001b[0m \u001b[0;34m\u001b[0m\u001b[0m\n\u001b[0;32m---> 52\u001b[0;31m \u001b[0mrandom_sample\u001b[0m\u001b[0;34m(\u001b[0m\u001b[0;34m'training'\u001b[0m\u001b[0;34m)\u001b[0m\u001b[0;34m\u001b[0m\u001b[0;34m\u001b[0m\u001b[0m\n\u001b[0m",
            "\u001b[0;32m<ipython-input-27-752f5f0f4e9d>\u001b[0m in \u001b[0;36mrandom_sample\u001b[0;34m(mode)\u001b[0m\n\u001b[1;32m     35\u001b[0m     \u001b[0mmixed\u001b[0m \u001b[0;34m=\u001b[0m \u001b[0mget_mixture_audio\u001b[0m\u001b[0;34m(\u001b[0m\u001b[0;34m\"tmp/audio1\"\u001b[0m\u001b[0;34m,\u001b[0m\u001b[0;34m\"tmp/audio2\"\u001b[0m\u001b[0;34m)\u001b[0m\u001b[0;34m\u001b[0m\u001b[0;34m\u001b[0m\u001b[0m\n\u001b[1;32m     36\u001b[0m \u001b[0;34m\u001b[0m\u001b[0m\n\u001b[0;32m---> 37\u001b[0;31m     \u001b[0mout\u001b[0m \u001b[0;34m=\u001b[0m \u001b[0mtorch\u001b[0m\u001b[0;34m.\u001b[0m\u001b[0mstft\u001b[0m\u001b[0;34m(\u001b[0m\u001b[0mmixed\u001b[0m\u001b[0;34m,\u001b[0m\u001b[0mn_fft\u001b[0m\u001b[0;34m=\u001b[0m\u001b[0;36m1024\u001b[0m\u001b[0;34m,\u001b[0m\u001b[0mhop_length\u001b[0m\u001b[0;34m=\u001b[0m\u001b[0;36m512\u001b[0m\u001b[0;34m,\u001b[0m\u001b[0mreturn_complex\u001b[0m\u001b[0;34m=\u001b[0m\u001b[0;32mTrue\u001b[0m\u001b[0;34m)\u001b[0m\u001b[0;34m\u001b[0m\u001b[0;34m\u001b[0m\u001b[0m\n\u001b[0m\u001b[1;32m     38\u001b[0m     \u001b[0mout_real\u001b[0m \u001b[0;34m=\u001b[0m \u001b[0mout\u001b[0m\u001b[0;34m[\u001b[0m\u001b[0;34m:\u001b[0m\u001b[0;34m,\u001b[0m \u001b[0;34m:\u001b[0m\u001b[0;34m,\u001b[0m \u001b[0;34m:\u001b[0m\u001b[0;34m,\u001b[0m \u001b[0;36m0\u001b[0m\u001b[0;34m]\u001b[0m\u001b[0;34m\u001b[0m\u001b[0;34m\u001b[0m\u001b[0m\n\u001b[1;32m     39\u001b[0m     \u001b[0mout_imag\u001b[0m \u001b[0;34m=\u001b[0m \u001b[0mout\u001b[0m\u001b[0;34m[\u001b[0m\u001b[0;34m:\u001b[0m\u001b[0;34m,\u001b[0m \u001b[0;34m:\u001b[0m\u001b[0;34m,\u001b[0m \u001b[0;34m:\u001b[0m\u001b[0;34m,\u001b[0m \u001b[0;36m1\u001b[0m\u001b[0;34m]\u001b[0m\u001b[0;34m\u001b[0m\u001b[0;34m\u001b[0m\u001b[0m\n",
            "\u001b[0;32m/usr/local/lib/python3.10/dist-packages/torch/functional.py\u001b[0m in \u001b[0;36mstft\u001b[0;34m(input, n_fft, hop_length, win_length, window, center, pad_mode, normalized, onesided, return_complex)\u001b[0m\n\u001b[1;32m    646\u001b[0m         \u001b[0mextended_shape\u001b[0m \u001b[0;34m=\u001b[0m \u001b[0;34m[\u001b[0m\u001b[0;36m1\u001b[0m\u001b[0;34m]\u001b[0m \u001b[0;34m*\u001b[0m \u001b[0;34m(\u001b[0m\u001b[0;36m3\u001b[0m \u001b[0;34m-\u001b[0m \u001b[0msignal_dim\u001b[0m\u001b[0;34m)\u001b[0m \u001b[0;34m+\u001b[0m \u001b[0mlist\u001b[0m\u001b[0;34m(\u001b[0m\u001b[0minput\u001b[0m\u001b[0;34m.\u001b[0m\u001b[0msize\u001b[0m\u001b[0;34m(\u001b[0m\u001b[0;34m)\u001b[0m\u001b[0;34m)\u001b[0m\u001b[0;34m\u001b[0m\u001b[0;34m\u001b[0m\u001b[0m\n\u001b[1;32m    647\u001b[0m         \u001b[0mpad\u001b[0m \u001b[0;34m=\u001b[0m \u001b[0mint\u001b[0m\u001b[0;34m(\u001b[0m\u001b[0mn_fft\u001b[0m \u001b[0;34m//\u001b[0m \u001b[0;36m2\u001b[0m\u001b[0;34m)\u001b[0m\u001b[0;34m\u001b[0m\u001b[0;34m\u001b[0m\u001b[0m\n\u001b[0;32m--> 648\u001b[0;31m         \u001b[0minput\u001b[0m \u001b[0;34m=\u001b[0m \u001b[0mF\u001b[0m\u001b[0;34m.\u001b[0m\u001b[0mpad\u001b[0m\u001b[0;34m(\u001b[0m\u001b[0minput\u001b[0m\u001b[0;34m.\u001b[0m\u001b[0mview\u001b[0m\u001b[0;34m(\u001b[0m\u001b[0mextended_shape\u001b[0m\u001b[0;34m)\u001b[0m\u001b[0;34m,\u001b[0m \u001b[0;34m[\u001b[0m\u001b[0mpad\u001b[0m\u001b[0;34m,\u001b[0m \u001b[0mpad\u001b[0m\u001b[0;34m]\u001b[0m\u001b[0;34m,\u001b[0m \u001b[0mpad_mode\u001b[0m\u001b[0;34m)\u001b[0m\u001b[0;34m\u001b[0m\u001b[0;34m\u001b[0m\u001b[0m\n\u001b[0m\u001b[1;32m    649\u001b[0m         \u001b[0minput\u001b[0m \u001b[0;34m=\u001b[0m \u001b[0minput\u001b[0m\u001b[0;34m.\u001b[0m\u001b[0mview\u001b[0m\u001b[0;34m(\u001b[0m\u001b[0minput\u001b[0m\u001b[0;34m.\u001b[0m\u001b[0mshape\u001b[0m\u001b[0;34m[\u001b[0m\u001b[0;34m-\u001b[0m\u001b[0msignal_dim\u001b[0m\u001b[0;34m:\u001b[0m\u001b[0;34m]\u001b[0m\u001b[0;34m)\u001b[0m\u001b[0;34m\u001b[0m\u001b[0;34m\u001b[0m\u001b[0m\n\u001b[1;32m    650\u001b[0m     return _VF.stft(input, n_fft, hop_length, win_length, window,  # type: ignore[attr-defined]\n",
            "\u001b[0;31mRuntimeError\u001b[0m: Argument #4: Padding size should be less than the corresponding input dimension, but got: padding (512, 512) at dimension 2 of input [1, 2, 160]"
          ]
        }
      ]
    },
    {
      "cell_type": "code",
      "source": [],
      "metadata": {
        "id": "79V1O30KMMKp"
      },
      "execution_count": null,
      "outputs": []
    }
  ],
  "metadata": {
    "language_info": {
      "name": "python"
    },
    "colab": {
      "provenance": [],
      "gpuType": "T4"
    },
    "kernelspec": {
      "name": "python3",
      "display_name": "Python 3"
    },
    "accelerator": "GPU"
  },
  "nbformat": 4,
  "nbformat_minor": 0
}