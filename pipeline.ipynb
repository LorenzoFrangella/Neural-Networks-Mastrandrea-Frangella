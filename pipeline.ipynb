{
  "cells": [
    {
      "cell_type": "code",
      "source": [
        "!pip install pytube\n",
        "!pip install pydub"
      ],
      "metadata": {
        "id": "DEi0ovRK-EkD"
      },
      "execution_count": null,
      "outputs": []
    },
    {
      "cell_type": "code",
      "source": [
        "from  pytube import YouTube\n",
        "import os\n",
        "from pydub import AudioSegment\n",
        "import csv\n",
        "\n",
        "def cut_audio(input_file, output_file, start_time, end_time):\n",
        "    audio = AudioSegment.from_file(input_file)\n",
        "    audio = audio.set_frame_rate(32000)\n",
        "    cut_audio = audio[start_time:end_time]\n",
        "    cut_audio.export(output_file, format=\"mp3\")\n",
        "\n",
        "\n",
        "def get_audio_clip(video_id, start, end):\n",
        "    video_url = f\"https://www.youtube.com/watch?v={video_id}\"\n",
        "    selected_video = YouTube(video_url)\n",
        "    audio = selected_video.streams.filter(only_audio = True).first()\n",
        "    path_dest = audio.download(\"./download\", filename=f\"{video_id}.mp3\")\n",
        "\n",
        "    cut_audio(path_dest, path_dest, start*1000, end*1000)\n",
        "\n",
        "\n",
        "with open('balanced_train_segments.csv', mode ='r')as file:\n",
        "  csvFile = csv.reader(file)\n",
        "  for lines in csvFile:\n",
        "     video_id = lines[0]\n",
        "     start = lines[1]\n",
        "     end = lines[2]\n",
        "     try:\n",
        "        get_audio_clip(video_id,float(start),float(end))\n",
        "     except:\n",
        "        continue\n",
        "\n",
        ""
      ],
      "metadata": {
        "id": "MxptmioV99te"
      },
      "execution_count": null,
      "outputs": []
    },
    {
      "cell_type": "code",
      "source": [
        "\n",
        "def plot_waveform(waveform, sample_rate):\n",
        "\n",
        "    waveform = waveform.numpy()\n",
        "    num_channels, num_frames = waveform.shape\n",
        "    time_axis = torch.arange(0, num_frames) / sample_rate\n",
        "    figure, axes = plt.subplots(num_channels, 1)\n",
        "    if num_channels == 1:\n",
        "        axes = [axes]\n",
        "    for c in range(num_channels):\n",
        "        axes[c].plot(time_axis, waveform[c], linewidth=1)\n",
        "        axes[c].grid(True)\n",
        "        if num_channels > 1:\n",
        "            axes[c].set_ylabel(f\"Channel {c+1}\")\n",
        "    figure.suptitle(\"waveform\")\n",
        "    plt.show()\n",
        "\n",
        "def get_mixture_audio(audio1,audio2):\n",
        "\n",
        "    waveform_s1, sample_rate_s1 = torchaudio.load(f\"{audio1}.mp3\")\n",
        "    waveform_s2,sample_rate_s2 = torchaudio.load(f\"{audio2}.mp3\")\n",
        "\n",
        "    E1 = torch.square(torch.norm(waveform_s1,p=2))\n",
        "    E2 = torch.square(torch.norm(waveform_s2,p=2))\n",
        "\n",
        "    alpha = torch.sqrt(E1/E2)\n",
        "\n",
        "    x = waveform_s1 + alpha * waveform_s2\n",
        "    return x\n"
      ],
      "metadata": {
        "id": "kxxkwaEe-sHD"
      },
      "execution_count": 18,
      "outputs": []
    },
    {
      "cell_type": "code",
      "source": [
        "import random\n",
        "import os\n",
        "import torch\n",
        "from pydub import AudioSegment\n",
        "import matplotlib as plt\n",
        "import math\n",
        "import torchaudio\n",
        "import numpy as np\n",
        "\n",
        "def random_sample(mode):\n",
        "\n",
        "  filenames = random.sample(os.listdir(\"./download\"), 2)\n",
        "  print(filenames)\n",
        "  audio1 = filenames[0]\n",
        "  audio2 = filenames[1]\n",
        "  audio1 = AudioSegment.from_file(f'./download/{audio1}')\n",
        "  audio1 = audio1.set_frame_rate(32000)\n",
        "  audio2 = AudioSegment.from_file(f'./download/{audio2}')\n",
        "  audio2 = audio2.set_frame_rate(32000)\n",
        "\n",
        "  if mode == \"training\":\n",
        "\n",
        "    duration1 = audio1.duration_seconds\n",
        "    duration2 = audio2.duration_seconds\n",
        "\n",
        "    start_time1 = random.uniform(0,(duration1-5))\n",
        "    start_time2 = random.uniform(0,(duration2-5))\n",
        "\n",
        "    clipped_audio1 = audio1[start_time1*1000:(start_time1+5)*1000]\n",
        "    clipped_audio2 = audio2[start_time2*1000:(start_time2+5)*1000]\n",
        "\n",
        "\n",
        "\n",
        "    clipped_audio1.export('./tmp/audio1.mp3', format=\"mp3\")\n",
        "    clipped_audio2.export('./tmp/audio2.mp3', format=\"mp3\")\n",
        "\n",
        "\n",
        "    mixed = get_mixture_audio(\"tmp/audio1\",\"tmp/audio2\")\n",
        "\n",
        "    out = torch.stft(mixed,n_fft=1024,hop_length=320,return_complex=True)\n",
        "\n",
        "    magnitude_spectrogram = torch.abs(out)\n",
        "    phase_spectrogram = torch.angle(out)\n",
        "\n",
        "\n",
        "    print('training')\n",
        "\n",
        "\n",
        "\n",
        "\n",
        "random_sample('training')\n"
      ],
      "metadata": {
        "colab": {
          "base_uri": "https://localhost:8080/",
          "height": 364
        },
        "id": "5iEbCSDHDeND",
        "outputId": "59b5a9fd-58e9-406d-de69-6bd476d4025d"
      },
      "execution_count": 34,
      "outputs": [
        {
          "output_type": "stream",
          "name": "stdout",
          "text": [
            "['-L68XDzhn2g.mp3', '-76P3VHPuus.mp3']\n"
          ]
        },
        {
          "output_type": "error",
          "ename": "TypeError",
          "evalue": "ignored",
          "traceback": [
            "\u001b[0;31m---------------------------------------------------------------------------\u001b[0m",
            "\u001b[0;31mTypeError\u001b[0m                                 Traceback (most recent call last)",
            "\u001b[0;32m<ipython-input-34-93e7d208a3f7>\u001b[0m in \u001b[0;36m<cell line: 71>\u001b[0;34m()\u001b[0m\n\u001b[1;32m     69\u001b[0m \u001b[0;34m\u001b[0m\u001b[0m\n\u001b[1;32m     70\u001b[0m \u001b[0;34m\u001b[0m\u001b[0m\n\u001b[0;32m---> 71\u001b[0;31m \u001b[0mrandom_sample\u001b[0m\u001b[0;34m(\u001b[0m\u001b[0;34m'training'\u001b[0m\u001b[0;34m)\u001b[0m\u001b[0;34m\u001b[0m\u001b[0;34m\u001b[0m\u001b[0m\n\u001b[0m",
            "\u001b[0;32m<ipython-input-34-93e7d208a3f7>\u001b[0m in \u001b[0;36mrandom_sample\u001b[0;34m(mode)\u001b[0m\n\u001b[1;32m     45\u001b[0m \u001b[0;34m\u001b[0m\u001b[0m\n\u001b[1;32m     46\u001b[0m     \u001b[0;31m# Plot the magnitude spectrogram\u001b[0m\u001b[0;34m\u001b[0m\u001b[0;34m\u001b[0m\u001b[0m\n\u001b[0;32m---> 47\u001b[0;31m     \u001b[0mplt\u001b[0m\u001b[0;34m.\u001b[0m\u001b[0mfigure\u001b[0m\u001b[0;34m(\u001b[0m\u001b[0mfigsize\u001b[0m\u001b[0;34m=\u001b[0m\u001b[0;34m(\u001b[0m\u001b[0;36m8\u001b[0m\u001b[0;34m,\u001b[0m \u001b[0;36m6\u001b[0m\u001b[0;34m)\u001b[0m\u001b[0;34m)\u001b[0m\u001b[0;34m\u001b[0m\u001b[0;34m\u001b[0m\u001b[0m\n\u001b[0m\u001b[1;32m     48\u001b[0m     \u001b[0mplt\u001b[0m\u001b[0;34m.\u001b[0m\u001b[0mimshow\u001b[0m\u001b[0;34m(\u001b[0m\u001b[0mnp\u001b[0m\u001b[0;34m.\u001b[0m\u001b[0mlog1p\u001b[0m\u001b[0;34m(\u001b[0m\u001b[0mmagnitude_spectrogram\u001b[0m\u001b[0;34m[\u001b[0m\u001b[0;36m0\u001b[0m\u001b[0;34m]\u001b[0m\u001b[0;34m.\u001b[0m\u001b[0mnumpy\u001b[0m\u001b[0;34m(\u001b[0m\u001b[0;34m)\u001b[0m\u001b[0;34m)\u001b[0m\u001b[0;34m,\u001b[0m \u001b[0maspect\u001b[0m\u001b[0;34m=\u001b[0m\u001b[0;34m'auto'\u001b[0m\u001b[0;34m,\u001b[0m \u001b[0morigin\u001b[0m\u001b[0;34m=\u001b[0m\u001b[0;34m'lower'\u001b[0m\u001b[0;34m,\u001b[0m \u001b[0mcmap\u001b[0m\u001b[0;34m=\u001b[0m\u001b[0;34m'viridis'\u001b[0m\u001b[0;34m)\u001b[0m\u001b[0;34m\u001b[0m\u001b[0;34m\u001b[0m\u001b[0m\n\u001b[1;32m     49\u001b[0m     \u001b[0mplt\u001b[0m\u001b[0;34m.\u001b[0m\u001b[0mtitle\u001b[0m\u001b[0;34m(\u001b[0m\u001b[0;34m'Magnitude Spectrogram'\u001b[0m\u001b[0;34m)\u001b[0m\u001b[0;34m\u001b[0m\u001b[0;34m\u001b[0m\u001b[0m\n",
            "\u001b[0;31mTypeError\u001b[0m: 'module' object is not callable"
          ]
        }
      ]
    },
    {
      "cell_type": "code",
      "source": [],
      "metadata": {
        "id": "79V1O30KMMKp"
      },
      "execution_count": null,
      "outputs": []
    }
  ],
  "metadata": {
    "language_info": {
      "name": "python"
    },
    "colab": {
      "provenance": [],
      "gpuType": "T4"
    },
    "kernelspec": {
      "name": "python3",
      "display_name": "Python 3"
    },
    "accelerator": "GPU"
  },
  "nbformat": 4,
  "nbformat_minor": 0
}